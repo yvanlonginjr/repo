{
 "cells": [
  {
   "cell_type": "code",
   "execution_count": 1,
   "id": "a83a9c5c-9d72-406b-a94e-55b279e3860b",
   "metadata": {},
   "outputs": [],
   "source": [
    "import os\n",
    "from pathlib import Path\n",
    "import pandas as pd\n",
    "\n",
    "import matplotlib.pyplot as plt"
   ]
  },
  {
   "cell_type": "code",
   "execution_count": 15,
   "id": "255c84b4-7fdc-4288-916c-1c3fe8fe305c",
   "metadata": {},
   "outputs": [],
   "source": [
    "\n",
    "\n",
    "# Paste your accurate path here\n",
    "train_path = Path(\"/Users/YvanLongin/Google Drive/My Drive/Boston College Applied Econ Program/Big Data Econometrics (Fall 25)/Assignments/HW 2/RawData/spring-2025-classification-competition/train.csv\")\n",
    "\n",
    "# Create output directory if needed\n",
    "OUT = Path(\"Output\")\n",
    "OUT.mkdir(parents=True, exist_ok=True)\n",
    "\n",
    "# Read the CSV file\n",
    "df = pd.read_csv(train_path)"
   ]
  },
  {
   "cell_type": "code",
   "execution_count": 17,
   "id": "54f1e3cb-e73e-41ca-b5d2-0fed0a98e39e",
   "metadata": {},
   "outputs": [
    {
     "name": "stdout",
     "output_type": "stream",
     "text": [
      "Rows, cols: (12243, 12)\n",
      "id                     int64\n",
      "gender                object\n",
      "age                  float64\n",
      "hypertension           int64\n",
      "heart_disease          int64\n",
      "ever_married          object\n",
      "work_type             object\n",
      "Residence_type        object\n",
      "avg_glucose_level    float64\n",
      "bmi                  float64\n",
      "smoking_status        object\n",
      "stroke                 int64\n",
      "dtype: object\n",
      "Target distribution:\n",
      " stroke\n",
      "0    11737\n",
      "1      506\n",
      "Name: count, dtype: int64\n"
     ]
    }
   ],
   "source": [
    "print(\"Rows, cols:\", df.shape)\n",
    "print(df.dtypes)\n",
    "print(\"Target distribution:\\n\", df['stroke'].value_counts(dropna=False))\n"
   ]
  },
  {
   "cell_type": "code",
   "execution_count": 23,
   "id": "3e243d40-4b3f-40c5-aa32-5eaa9448e943",
   "metadata": {},
   "outputs": [
    {
     "name": "stdout",
     "output_type": "stream",
     "text": [
      "Missing values:\n",
      " Series([], dtype: int64)\n"
     ]
    }
   ],
   "source": [
    "# Missingness\n",
    "miss = df.isna().sum().sort_values(ascending=False)\n",
    "print(\"Missing values:\\n\", miss[miss>0])\n",
    "\n",
    "# Save head & describe\n",
    "df.head().to_csv(OUT / \"sample_head.csv\", index=False)\n",
    "df.describe(include='all').to_csv(OUT / \"describe.csv\")\n",
    "\n",
    "# A couple of quick plots\n",
    "plt.figure(figsize=(6,4))\n",
    "df['stroke'].value_counts().plot(kind='bar', title='Target counts')\n",
    "plt.tight_layout()\n",
    "plt.savefig(OUT / \"target_counts.png\")\n",
    "plt.close()\n"
   ]
  },
  {
   "cell_type": "code",
   "execution_count": 27,
   "id": "d7c9d18f-b8d4-4858-a3cb-1badfeafceae",
   "metadata": {},
   "outputs": [
    {
     "name": "stdout",
     "output_type": "stream",
     "text": [
      "EDA outputs saved to Output\n"
     ]
    }
   ],
   "source": [
    "\n",
    "# Example: age distribution\n",
    "plt.figure(figsize=(6,4))\n",
    "df['age'].dropna().plot(kind='hist', bins=30)\n",
    "plt.title('Age histogram')\n",
    "plt.tight_layout()\n",
    "plt.savefig(OUT / \"age_hist.png\")\n",
    "plt.close()\n",
    "\n",
    "print(\"EDA outputs saved to\", OUT)"
   ]
  },
  {
   "cell_type": "markdown",
   "id": "755e1c67-572b-4d3c-954e-d32159aba12a",
   "metadata": {},
   "source": []
  }
 ],
 "metadata": {
  "kernelspec": {
   "display_name": "Python [conda env:machine_learning]",
   "language": "python",
   "name": "conda-env-machine_learning-py"
  },
  "language_info": {
   "codemirror_mode": {
    "name": "ipython",
    "version": 3
   },
   "file_extension": ".py",
   "mimetype": "text/x-python",
   "name": "python",
   "nbconvert_exporter": "python",
   "pygments_lexer": "ipython3",
   "version": "3.11.13"
  }
 },
 "nbformat": 4,
 "nbformat_minor": 5
}

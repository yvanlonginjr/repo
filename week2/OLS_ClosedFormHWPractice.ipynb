{
 "cells": [
  {
   "cell_type": "markdown",
   "id": "47f51ccf",
   "metadata": {},
   "source": [
    "<div style=\"text-align: right\">ADEC7430 Lecture 2</div>\n",
    "<div style=\"text-align: right\">Prof. Stefano Parravano, 09/02/20225</div>\n",
    "\n",
    "## OLS Example Problem\n",
    "\n",
    "Given the data: $(x_i,y_i)$: (2,1),(5,2),(7,3),(8,3).\n",
    "\n",
    "Find a linear model of the form:\n",
    "\n",
    "$$ y = \\beta_0 + \\beta_1 x $$\n",
    "\n",
    "that fits the data provided. Use OLS.\n",
    "\n",
    "Step 1: Create the design matrix\n",
    "\n",
    "$$ X = \\begin{bmatrix} 1 & 2 \\\\ 1 & 5 \\\\ 1 & 7 \\\\ 1 & 8 \\end{bmatrix}$$\n",
    "\n",
    "Step 2: take note of the observation vector and the parameter vector.\n",
    "\n",
    "parameter vector:\n",
    "$$\\vec{\\beta} = \\begin{bmatrix} \\ \\beta_0 \\\\ \\beta_1 \\end{bmatrix} $$\n",
    "\n",
    "observation vector:\n",
    "$$\\vec{y} = \\begin{bmatrix} \\ 1 \\\\ 2 \\\\ 3 \\\\ 3 \\end{bmatrix} $$\n",
    "\n",
    "Step 3: Express the problem in the language of matrix alegebra:\n",
    "\n",
    "$$ X\\vec{\\beta} = \\vec{y} $$\n",
    "\n",
    "Step 4: Use normal equations to solve for $\\hat{\\beta}$\n",
    "\n",
    "$$ X^TX\\hat{\\beta} = X^T\\vec{y} $$\n",
    "\n",
    "$$\\implies$$\n",
    "\n",
    "$$ \\hat{\\beta} = (X^TX)^{-1} X^T\\vec{y} $$\n",
    "\n",
    "Step 5: Use python to perform the computation. This is what you will have to figure out :). PLease use the sympy package to perform operations between matrices and vectors.\n",
    "\n",
    "Step 6: Report your result.\n",
    "\n",
    "$$ \\hat{\\beta} = \\begin{bmatrix} \\ \\frac{2}{7} \\\\ \\frac{5}{14} \\end{bmatrix} $$\n",
    "\n",
    "$$ \\therefore y = \\frac{2}{7} + \\frac{5}{14} x $$"
   ]
  },
  {
   "cell_type": "markdown",
   "id": "98bf3018",
   "metadata": {},
   "source": [
    "## Assignment:\n",
    "\n",
    "Given the data provided below: x_feature et y_feature please fit a function of the form: $$ f(x) = ax^2 + bx + c $$  \n",
    "where:  \n",
    "$$ (a,b,c) \\in \\mathbf{R}$$  \n",
    "and of course let's not forget:  \n",
    "$$ a \\neq 0 $$  \n",
    "\n",
    "Use OLS and do not use a package to estimate the unknown parameters $\\hat\\beta$ (a,b,c).\n",
    "\n",
    "You must follow the step by step outlined in the example problem above.\n",
    "\n",
    "In addition, you are required to:\n",
    " + compute the residual vector: $\\epsilon = \\vec{y} - X \\hat{\\beta}$\n",
    " + compute the norm of the residual vector (what does this represent)? Provide a description in plain english.\n",
    " + plot your data and the best fit line you estimated.\n",
    " + Compute the RMSE and compare it against the RMSE reported in the OLS_gradientDescent notebook (model was fit on the same data using Gradient Descent as opposed to the closed form solution). Are the estimates different? Comment on this.\n",
    " \n",
    "\n",
    "You may notice that in te OLS_gradientDescent notebook the features are normalized before the training process.\n",
    "\n",
    "Please perform the model fitting (training) using non-normalized features first and then repeat the entire process using normalized features. Take note of the differences and provide meaningful commentary.\n",
    "\n",
    "NOTE: I provide the function to normalize a feature vector.\n",
    "\n",
    "As a Final Step: Use R or any software/language of your choosing to perform OLS regression on the sample dataset provided. Do you get the same resutls?"
   ]
  },
  {
   "cell_type": "markdown",
   "id": "9bada2f1",
   "metadata": {},
   "source": [
    "## Solution"
   ]
  },
  {
   "cell_type": "code",
   "execution_count": 55,
   "id": "1aff9932",
   "metadata": {},
   "outputs": [],
   "source": [
    "from sympy import *\n",
    "import matplotlib.pyplot as plt\n",
    "import numpy as np"
   ]
  },
  {
   "cell_type": "code",
   "execution_count": 51,
   "id": "3dc89f86",
   "metadata": {},
   "outputs": [],
   "source": [
    "def normalize_tensor_0_1(tensor):\n",
    "    min_ten=min(tensor)\n",
    "    max_ten=max(tensor)\n",
    "    norm_ten=(tensor - min_ten)/(max_ten-min_ten)\n",
    "    return(norm_ten)"
   ]
  },
  {
   "cell_type": "code",
   "execution_count": 80,
   "id": "25177ffe",
   "metadata": {},
   "outputs": [],
   "source": [
    "y = Matrix([[7.3],[15.1],[17.2],[61.9],[12.3],[8],[11.6],[22.5],[6],[16.6],[32.2]])\n",
    "x_feature = np.asarray([35.7,55.9,58.2,81.9,56.3,48.9,33.9,21.8,48.4,60.4,68.4])\n",
    "y_feature = np.asarray([y[x] for x in range(y.shape[0])])"
   ]
  }
 ],
 "metadata": {
  "kernelspec": {
   "display_name": "Python 3 (ipykernel)",
   "language": "python",
   "name": "python3"
  },
  "language_info": {
   "codemirror_mode": {
    "name": "ipython",
    "version": 3
   },
   "file_extension": ".py",
   "mimetype": "text/x-python",
   "name": "python",
   "nbconvert_exporter": "python",
   "pygments_lexer": "ipython3",
   "version": "3.10.9"
  }
 },
 "nbformat": 4,
 "nbformat_minor": 5
}

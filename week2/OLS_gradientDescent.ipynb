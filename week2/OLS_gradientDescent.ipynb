{
 "cells": [
  {
   "cell_type": "markdown",
   "metadata": {},
   "source": [
    "<div style=\"text-align: right\">ADEC7430 Lecture 2</div>\n",
    "<div style=\"text-align: right\">Prof. Stefano Parravano, 09/02/2025</div>\n",
    "\n",
    "## OLS: Different Perspective"
   ]
  },
  {
   "cell_type": "code",
   "execution_count": 2,
   "metadata": {},
   "outputs": [],
   "source": [
    "import torch"
   ]
  },
  {
   "cell_type": "markdown",
   "metadata": {},
   "source": [
    "Consider two lists: \n",
    "$$ t_c = [7.3, 15.1, 17.2, 61.9, 12.3, 8.0, 11.6, 22.5,6.0, 16.6, 32.2] $$    \n",
    "and  \n",
    "$$ t_f =[35.7, 55.9, 58.2, 81.9, 56.3, 48.9, 33.9, 21.8, 48.4, 60.4, 68.4] $$ \n",
    "\n",
    "Treat them as results of a series of measurement. Your objective is to make      quadratic models that would predict variable t_c, given values of variable t_f.\n"
   ]
  },
  {
   "cell_type": "markdown",
   "metadata": {},
   "source": [
    "### Problem 1 Solution"
   ]
  },
  {
   "cell_type": "code",
   "execution_count": 3,
   "metadata": {},
   "outputs": [
    {
     "data": {
      "image/png": "[encoded data removed]",
      "text/plain": [
       "<Figure size 640x480 with 1 Axes>"
      ]
     },
     "metadata": {},
     "output_type": "display_data"
    }
   ],
   "source": [
    "t_c = [7.3, 15.1, 17.2, 61.9, 12.3, 8.0, 11.6, 22.5,6.0, 16.6, 32.2]\n",
    "t_f = [35.7, 55.9, 58.2, 81.9, 56.3, 48.9, 33.9, 21.8, 48.4, 60.4, 68.4]\n",
    "t_c = torch.tensor(t_c)\n",
    "t_f = torch.tensor(t_f)\n",
    "\n",
    "import numpy as np\n",
    "import matplotlib.pyplot as plt\n",
    "\n",
    "\n",
    "plt.plot(t_f, t_c, \"ro\")   \n",
    "plt.title('t_c as a function of t_f')  \n",
    "plt.xlabel('t_f')  \n",
    "plt.ylabel('t_c')  \n",
    "#plt.legend() \n",
    "plt.show()"
   ]
  },
  {
   "cell_type": "markdown",
   "metadata": {},
   "source": [
    "A quadratic realtionship seems plausible here. At this point we should also recall that a univariate quadratic function (univariate here because we have one feature) has the form : \n",
    "\n",
    "$$ f(x) = ax^2 + bx + c $$  \n",
    "where:  \n",
    "$$ (a,b,c) \\in \\mathbf{R}$$  \n",
    "and of course let's not forget:  \n",
    "$$ a \\neq 0 $$  \n",
    "\n",
    "In the context of our problem here we can write the following:  \n",
    "\n",
    "$$ t_p = ax^2 + bx + c $$  \n",
    "where we think of $t_p$ as the predicted value of $t_t$ for some input $t_f$.  \n",
    "\n",
    "If we are interested in fitting a curve between our points we can think of defining our standard loss function as:  \n",
    "\n",
    "$$ L =\\frac {1}{N} \\sum_{i=1}^n(\\overline{Y_i} - Y_i)^2 $$  \n",
    "\n",
    "We can replace key vaiables of this Standard loss function with those that are specific to our problem:\n",
    "$$ L =\\frac {1}{N} \\sum_{}(t_p - t_c)^2 $$  \n",
    "we can follow this with another round of substitutions:    \n",
    "$$ L =\\frac {1}{N} \\sum_{}((ax^2 + bx + c) - t_c)^2 $$  \n",
    "To enable an easy walkthough of the gradient math that we need to perform, I will 'split' our loss function into smaller parts by writing it as the composition of smaller (easier) functions.  \n",
    "Let:\n",
    "$$ m = ax^2 + bx + c - t_c $$  \n",
    "we can $\\therefore$ write $L$ as:    \n",
    "$$ L = \\frac {1}{N} \\sum_{}m^2 $$  \n",
    "\n",
    "Suddendly L is an extremely nice looking function that we will be able to differentiate without any problems. Before we start computing any derivatives we need to take stock of what paramters our model will have. It should be clear that we will have 3 trainable paramters: $a$,$b$,$c$. The gradient of $L$ , keeping in mind the chain rule can be written as:  \n",
    "$$ \\nabla_{a,b,c} L = \\langle \\frac{\\partial L}{\\partial m} \\frac{\\partial m}{\\partial a}, \\frac{\\partial L}{\\partial m} \\frac{\\partial m}{\\partial b}, \\frac{\\partial L}{\\partial m} \\frac{\\partial m}{\\partial c} \\rangle $$  \n",
    "\n",
    "Our job now is to compute each of the partials in the expressions above. Don't let the notation fool you, this is a very simple problem, and is suprisingly elementary from a mathematical standpoint.  \n",
    "\n",
    "$$ \\frac{\\partial L}{\\partial m}= \\frac{1}{n} \\cdot 2m $$\n",
    "$$ \\frac{\\partial m}{\\partial a}= {t_f}^2 $$\n",
    "$$ \\frac{\\partial m}{\\partial b}= t_f $$\n",
    "$$ \\frac{\\partial m}{\\partial c}= 1 $$  \n",
    "\n",
    "$$ \\nabla_{a,b,c} L = \\langle \\frac{1}{n}\\cdot 2m({t_f}^2), \\frac{1}{n}(2m) \\cdot t_f,\\frac{1}{n}(2m)\\rangle $$  \n",
    "\n",
    "We can now convert this into code and use gradient descent to compute the optimal paramters a,b,c that will define our functional mapping of the experimental data we have.  \n",
    "Note: I have dropped the sigma to make the notation easier. We compute values for the gradient for each sample, thereby generating a gradient vector for each compnent listed above. We then sum each component vector to generate three real numbers. We then 'nudge' each paramter using these three scalars."
   ]
  },
  {
   "cell_type": "code",
   "execution_count": 4,
   "metadata": {},
   "outputs": [],
   "source": [
    "#let's define our loss function\n",
    "def loss_fn(t_p, t_c):\n",
    "    squared_diffs = (t_p - t_c)**2\n",
    "    return squared_diffs.mean()\n",
    "#we can take the derivative of our loss function. Note this is where we substituded and made L= m^2\n",
    "def dloss_fn(t_p, t_c):\n",
    "    dsq_diffs = 2 * (t_p - t_c)\n",
    "    return dsq_diffs\n",
    "\n",
    "def model(t_f, a, b,c):\n",
    "    #let's make sure our input get's ocnverted to a tensor\n",
    "    #t_f=torch.FloatTensor(t_f)\n",
    "    res = a * (t_f)**2  + b * t_f + c\n",
    "    return (res)\n",
    "\n",
    "# Since t_p = model(a, b,c), the derivatives of t_p with respect to a,b  and c are given by:\n",
    "def dmodel_da(t_f, a, b,c):\n",
    "    res = t_f **2\n",
    "    return (res)\n",
    "\n",
    "def dmodel_db(t_f, a, b,c):\n",
    "    res = t_f\n",
    "    return (res)\n",
    "\n",
    "def dmodel_dc(t_f, a, b,c):\n",
    "    res = 1.0\n",
    "    return (res)\n",
    "\n",
    "#now we can build out the gradient function that will perform the math we outlined above\n",
    "def grad_fn(t_f, t_c, t_p,a,b,c):\n",
    "    dloss_da = dloss_fn(t_p, t_c) * dmodel_da(t_f,a,b,c)\n",
    "    dloss_db = dloss_fn(t_p, t_c) * dmodel_db(t_f,a,b,c)\n",
    "    dloss_dc = dloss_fn(t_p, t_c) * dmodel_dc(t_f,a,b,c)\n",
    "    return torch.stack([dloss_da.mean(), dloss_db.mean(),dloss_dc.mean()])\n",
    "\n",
    "#now as a last step we write the code for the iterative part of gradient descent. We compute the gradient\n",
    "#nudge our parameters in the opposite direction and update our paramters with the new values and we keep\n",
    "#repeating this process till a stopping criteria is reached. nothing mroe complicataed than that\n",
    "\n",
    "def training_loop(n_epochs, learning_rate, params, t_f, t_c, print_params=True):\n",
    "    loss_values=[]\n",
    "    epoch_list=[]\n",
    "    for epoch in range(1, n_epochs + 1):\n",
    "        a,b,c = params\n",
    "\n",
    "        t_p = model(t_f, a, b,c)  #  Forward pass\n",
    "        loss = loss_fn(t_p, t_c)\n",
    "        #gradient = grad_fn(t_f, t_c, t_p, a, b,c)#  Backward pass\n",
    "        gradient = grad_fn(t_f, t_c, t_p,*params)\n",
    "        params = params - learning_rate * gradient\n",
    "        loss_values.append(loss)\n",
    "        epoch_list.append(epoch)\n",
    "        if epoch % 4000 ==0 :\n",
    "            print('Epoch %d, Loss %f' % (epoch, float(loss)))\n",
    "            #print('Grad:',gradient,'Params',params)\n",
    "        elif epoch in [x for x in range(2)]:\n",
    "            print('Epoch %d, Loss %f' % (epoch, float(loss)))\n",
    "            #print('Grad:',gradient,'Params',params)\n",
    "        if not torch.isfinite(loss).all():\n",
    "            break  # <3>\n",
    "    \n",
    "    loss_history=list(zip(epoch_list,loss_values))\n",
    "    return (params,loss_history)"
   ]
  },
  {
   "cell_type": "markdown",
   "metadata": {},
   "source": [
    "We are ready to find our optimal paramters a,b,c via gradient descent.  \n",
    "Let's normalize our inputs and then start **training**."
   ]
  },
  {
   "cell_type": "code",
   "execution_count": 5,
   "metadata": {},
   "outputs": [],
   "source": [
    "def normalize_tensor_0_1(tensor):\n",
    "    min_ten=min(tensor)\n",
    "    max_ten=max(tensor)\n",
    "    norm_ten=(tensor - min_ten)/(max_ten-min_ten)\n",
    "    return(norm_ten)\n",
    "def reverse_normalize_tensor_0_1(tensor,norm_tensor):\n",
    "    min_ten=min(tensor)\n",
    "    max_ten=max(tensor)\n",
    "    ten=norm_tensor*(max_ten-min_ten)+min_ten\n",
    "    return(ten)"
   ]
  },
  {
   "cell_type": "markdown",
   "metadata": {},
   "source": [
    "We can start training !"
   ]
  },
  {
   "cell_type": "code",
   "execution_count": 6,
   "metadata": {},
   "outputs": [
    {
     "name": "stdout",
     "output_type": "stream",
     "text": [
      "Initial values for parameters (a,b,c)=: 0.012492104397071602 0.3723401121546104 0.9617408599869594\n",
      "Epoch 1, Loss 556.392761\n",
      "Epoch 4000, Loss 54.254627\n",
      "Epoch 8000, Loss 29.942511\n",
      "Epoch 12000, Loss 16.956079\n",
      "Epoch 16000, Loss 10.019322\n",
      "Epoch 20000, Loss 6.314049\n",
      "Epoch 24000, Loss 4.334883\n",
      "Epoch 28000, Loss 3.277680\n",
      "Epoch 32000, Loss 2.712977\n",
      "Epoch 36000, Loss 2.411315\n",
      "Epoch 40000, Loss 2.250123\n",
      "Epoch 44000, Loss 2.164085\n",
      "Epoch 48000, Loss 2.118078\n",
      "Epoch 52000, Loss 2.093497\n",
      "Epoch 56000, Loss 2.080382\n",
      "Epoch 60000, Loss 2.073342\n",
      "Epoch 64000, Loss 2.069545\n",
      "Epoch 68000, Loss 2.067503\n",
      "Epoch 72000, Loss 2.066418\n",
      "Epoch 76000, Loss 2.065788\n",
      "Epoch 80000, Loss 2.065502\n",
      "Epoch 84000, Loss 2.065309\n",
      "Epoch 88000, Loss 2.065201\n",
      "Epoch 92000, Loss 2.065154\n",
      "Epoch 96000, Loss 2.065139\n",
      "Epoch 100000, Loss 2.065139\n",
      "Total train time: 27.979370832443237\n"
     ]
    }
   ],
   "source": [
    "import random\n",
    "random.uniform(0, 1)\n",
    "a,b,c = random.uniform(0, 1),random.uniform(0, 1),random.uniform(0, 1)\n",
    "print('Initial values for parameters (a,b,c)=:',a,b,c)\n",
    "tf_normalized = normalize_tensor_0_1(t_f)\n",
    "import time\n",
    "start_time=time.time()\n",
    "params,loss_history = training_loop(\n",
    "    n_epochs = 100_000, \n",
    "    learning_rate = 1e-2, \n",
    "    params = torch.tensor([a, b,c]), \n",
    "    t_f = tf_normalized, \n",
    "    t_c = t_c,\n",
    "    print_params = False)\n",
    "end_time=time.time()\n",
    "total_train_time=end_time-start_time\n",
    "print('Total train time:',total_train_time)\n",
    "#let's make our predictions and then inverser the normalization"
   ]
  },
  {
   "cell_type": "code",
   "execution_count": 7,
   "metadata": {},
   "outputs": [
    {
     "name": "stdout",
     "output_type": "stream",
     "text": [
      "0.012492104397071602,0.3723401121546104,0.9617408599869594\n",
      "tensor([130.6685, -90.7532,  22.5796])\n"
     ]
    }
   ],
   "source": [
    "print(f\"{a},{b},{c}\")\n",
    "print(params)"
   ]
  },
  {
   "cell_type": "markdown",
   "metadata": {},
   "source": [
    "We can visualize our resutls now..  \n",
    " 1. We first will make predictions using the model we just trained (remember to use normalized values for the predictor)  \n",
    " 2. We will create a zipped list of t_p and t_f and sort by t_f (this will enable us to draw a nice line graph)\n",
    " 3. We will plot our results and perform some very basic error disgnostics.  \n",
    " "
   ]
  },
  {
   "cell_type": "code",
   "execution_count": 8,
   "metadata": {},
   "outputs": [
    {
     "data": {
      "image/png": "[encoded data removed]",
      "text/plain": [
       "<Figure size 640x480 with 1 Axes>"
      ]
     },
     "metadata": {},
     "output_type": "display_data"
    }
   ],
   "source": [
    "t_p1 = model(tf_normalized, *params) \n",
    "from matplotlib import pyplot as plt\n",
    "import operator\n",
    "zipped=list(zip(list(t_f.numpy()),list(t_p1.numpy())))\n",
    "sorted_list=sorted(zipped,key=operator.itemgetter(0))\n",
    "\n",
    "t_f_sort=[x for x,y in sorted_list]\n",
    "t_p1_sort=[y for x,y in sorted_list]\n",
    "\n",
    "plt.title('Model fit vs actuals')  \n",
    "plt.xlabel(\"t_f\")\n",
    "plt.ylabel(\"t_c\")\n",
    "plt.plot(t_f_sort, t_p1_sort,'g',label='Model Predicted_values')  #, t_p.detach().numpy()) \n",
    "plt.plot(t_f.numpy(), t_c.numpy(), 'r+',label='Original Values')\n",
    "plt.legend() \n",
    "plt.show()"
   ]
  },
  {
   "cell_type": "code",
   "execution_count": 9,
   "metadata": {},
   "outputs": [
    {
     "name": "stdout",
     "output_type": "stream",
     "text": [
      "Predicted value: 8.579702377319336, Actual value: 7.300000190734863, Input value: 35.70000076293945\n",
      "Predicted value: 13.153337478637695, Actual value: 15.100000381469727, Input value: 55.900001525878906\n",
      "Predicted value: 15.546213150024414, Actual value: 17.200000762939453, Input value: 58.20000076293945\n",
      "Predicted value: 62.494964599609375, Actual value: 61.900001525878906, Input value: 81.9000015258789\n",
      "Predicted value: 13.541997909545898, Actual value: 12.300000190734863, Input value: 56.29999923706055\n",
      "Predicted value: 8.225740432739258, Actual value: 8.0, Input value: 48.900001525878906\n",
      "Predicted value: 9.604724884033203, Actual value: 11.600000381469727, Input value: 33.900001525878906\n",
      "Predicted value: 22.579622268676758, Actual value: 22.5, Input value: 21.799999237060547\n",
      "Predicted value: 8.009431838989258, Actual value: 6.0, Input value: 48.400001525878906\n",
      "Predicted value: 18.193201065063477, Actual value: 16.600000381469727, Input value: 60.400001525878906\n",
      "Predicted value: 30.77055549621582, Actual value: 32.20000076293945, Input value: 68.4000015258789\n"
     ]
    }
   ],
   "source": [
    "for x in range(len(t_p1)):\n",
    "    print(f\"Predicted value: {t_p1[x]}, Actual value: {t_c[x]}, Input value: {t_f[x]}\")"
   ]
  },
  {
   "cell_type": "code",
   "execution_count": 10,
   "metadata": {},
   "outputs": [
    {
     "data": {
      "text/latex": [
       "$\\displaystyle 4.76619$"
      ],
      "text/plain": [
       "4.76619"
      ]
     },
     "execution_count": 10,
     "metadata": {},
     "output_type": "execute_result"
    }
   ],
   "source": [
    "from sympy import *\n",
    "residual_vector = Matrix(t_c - t_p1)\n",
    "residual_vector.norm()"
   ]
  },
  {
   "cell_type": "code",
   "execution_count": 11,
   "metadata": {},
   "outputs": [],
   "source": [
    "def rmse_error(actuals,predicted):\n",
    "    error=[x-y for x,y in zip(actuals,predicted)]\n",
    "    sq_error=[x*x for x in error]\n",
    "    sum_sq_error=sum(sq_error)\n",
    "    mse = sum_sq_error/len(sq_error)\n",
    "    rmse = mse**0.5\n",
    "    return(rmse)\n",
    "\n",
    "def mape_error(actuals,predicted):\n",
    "    error=[x-y for x,y in zip(actuals,predicted)]\n",
    "    relative_error=[x/y for x,y in zip(error,actuals)]\n",
    "    abs_relative_error=[abs(x) for x in relative_error]\n",
    "    sum_abs_rel_error=sum(abs_relative_error)\n",
    "    mape=(sum_abs_rel_error/len(actuals))*100\n",
    "    return(mape)"
   ]
  },
  {
   "cell_type": "code",
   "execution_count": 12,
   "metadata": {},
   "outputs": [
    {
     "name": "stdout",
     "output_type": "stream",
     "text": [
      "On average our preidctions were off by +/- tensor(1.4371) units\n",
      "On average our preidctions were off by +/- tensor(10.8181) percent\n"
     ]
    }
   ],
   "source": [
    "rmse=rmse_error(t_c,t_p1)\n",
    "print('On average our preidctions were off by +/-',rmse,'units')\n",
    "\n",
    "mape=mape_error(t_c,t_p1)\n",
    "print('On average our preidctions were off by +/-',mape,'percent')"
   ]
  },
  {
   "cell_type": "markdown",
   "metadata": {},
   "source": [
    "The error metrics confirm what we seen in the plot. This function that we found via gradient descent does in fact fit our data pretty well."
   ]
  }
 ],
 "metadata": {
  "kernelspec": {
   "display_name": "Python 3 (ipykernel)",
   "language": "python",
   "name": "python3"
  },
  "language_info": {
   "codemirror_mode": {
    "name": "ipython",
    "version": 3
   },
   "file_extension": ".py",
   "mimetype": "text/x-python",
   "name": "python",
   "nbconvert_exporter": "python",
   "pygments_lexer": "ipython3",
   "version": "3.10.9"
  }
 },
 "nbformat": 4,
 "nbformat_minor": 4
}
